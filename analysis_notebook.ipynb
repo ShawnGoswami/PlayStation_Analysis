{
 "cells": [
  {
   "cell_type": "markdown",
   "id": "49b6f1cf",
   "metadata": {},
   "source": [
    "# Analyzing PlayStation Game Sales Across Multiple Consoles"
   ]
  },
  {
   "cell_type": "markdown",
   "id": "e4407805",
   "metadata": {},
   "source": [
    "## Data Extracted and Compiled From Following Pages: "
   ]
  },
  {
   "cell_type": "markdown",
   "id": "8b57e824",
   "metadata": {},
   "source": [
    "List of Best-selling PlayStation 3 video games \n",
    "\n",
    "List of Best-selling PlayStation 4 video games\n",
    "\n",
    "List of Best-selling PlayStation 5 video games\n"
   ]
  },
  {
   "cell_type": "markdown",
   "id": "9ccfe237",
   "metadata": {},
   "source": [
    "# Background"
   ]
  },
  {
   "cell_type": "markdown",
   "id": "51b8869d",
   "metadata": {},
   "source": [
    "TODO LATER"
   ]
  },
  {
   "cell_type": "markdown",
   "id": "4a4d81e1",
   "metadata": {},
   "source": [
    "This analysis will analyze worldwide sales of PlayStation 3, 4 and 5 games. "
   ]
  },
  {
   "cell_type": "markdown",
   "id": "78fddf78",
   "metadata": {},
   "source": [
    "TODO LATER"
   ]
  },
  {
   "cell_type": "code",
   "execution_count": 1,
   "id": "6dca0c44",
   "metadata": {},
   "outputs": [],
   "source": [
    "import pandas as pd \n",
    "import numpy as np \n",
    "import seaborn as sns \n",
    "import matplotlib.pyplot as plt \n",
    "\n",
    "import re \n",
    "import sqlite3\n",
    "\n",
    "from pathlib import Path\n",
    "from pandas.io.html import read_html\n"
   ]
  },
  {
   "cell_type": "markdown",
   "id": "b6d4e7fd",
   "metadata": {},
   "source": [
    "I inspected the page element to determine how best to extract the data. Each table has the HTML class Wikitable. I extracted each of these using Pandas' read_html function. "
   ]
  },
  {
   "cell_type": "markdown",
   "id": "369e33eb",
   "metadata": {},
   "source": [
    "# PlayStation 4"
   ]
  },
  {
   "cell_type": "code",
   "execution_count": 3,
   "id": "63caab20",
   "metadata": {},
   "outputs": [
    {
     "name": "stdout",
     "output_type": "stream",
     "text": [
      "Extracted 1 wikitables.\n"
     ]
    }
   ],
   "source": [
    "url = \"https://en.wikipedia.org/wiki/List_of_best-selling_PlayStation_4_video_games\"\n",
    "\n",
    "ps4_wiki = read_html(url, attrs={'class':'wikitable'})\n",
    "print(\"Extracted {num} wikitables.\".format(num=len(ps4_wiki)))"
   ]
  },
  {
   "cell_type": "code",
   "execution_count": 4,
   "id": "609b4167",
   "metadata": {},
   "outputs": [
    {
     "data": {
      "text/html": [
       "<div>\n",
       "<style scoped>\n",
       "    .dataframe tbody tr th:only-of-type {\n",
       "        vertical-align: middle;\n",
       "    }\n",
       "\n",
       "    .dataframe tbody tr th {\n",
       "        vertical-align: top;\n",
       "    }\n",
       "\n",
       "    .dataframe thead th {\n",
       "        text-align: right;\n",
       "    }\n",
       "</style>\n",
       "<table border=\"1\" class=\"dataframe\">\n",
       "  <thead>\n",
       "    <tr style=\"text-align: right;\">\n",
       "      <th></th>\n",
       "      <th>Game</th>\n",
       "      <th>Copies sold</th>\n",
       "      <th>Release date[a]</th>\n",
       "      <th>Genre(s)</th>\n",
       "      <th>Developer(s)</th>\n",
       "      <th>Publisher(s)</th>\n",
       "    </tr>\n",
       "  </thead>\n",
       "  <tbody>\n",
       "    <tr>\n",
       "      <th>0</th>\n",
       "      <td>Marvel's Spider-Man</td>\n",
       "      <td>20 million[1][b]</td>\n",
       "      <td>September 7, 2018</td>\n",
       "      <td>Action-adventure</td>\n",
       "      <td>Insomniac Games</td>\n",
       "      <td>Sony Interactive Entertainment</td>\n",
       "    </tr>\n",
       "    <tr>\n",
       "      <th>1</th>\n",
       "      <td>God of War</td>\n",
       "      <td>19.5 million[3]</td>\n",
       "      <td>April 20, 2018</td>\n",
       "      <td>Action-adventurehack and slash</td>\n",
       "      <td>Santa Monica Studio</td>\n",
       "      <td>Sony Interactive Entertainment</td>\n",
       "    </tr>\n",
       "    <tr>\n",
       "      <th>2</th>\n",
       "      <td>Uncharted 4: A Thief's End</td>\n",
       "      <td>16 million[4][5][6][d]</td>\n",
       "      <td>May 10, 2016</td>\n",
       "      <td>Action-adventure</td>\n",
       "      <td>Naughty Dog</td>\n",
       "      <td>Sony Interactive Entertainment</td>\n",
       "    </tr>\n",
       "  </tbody>\n",
       "</table>\n",
       "</div>"
      ],
      "text/plain": [
       "                         Game             Copies sold    Release date[a]  \\\n",
       "0         Marvel's Spider-Man        20 million[1][b]  September 7, 2018   \n",
       "1                  God of War         19.5 million[3]     April 20, 2018   \n",
       "2  Uncharted 4: A Thief's End  16 million[4][5][6][d]       May 10, 2016   \n",
       "\n",
       "                         Genre(s)         Developer(s)  \\\n",
       "0                Action-adventure      Insomniac Games   \n",
       "1  Action-adventurehack and slash  Santa Monica Studio   \n",
       "2                Action-adventure          Naughty Dog   \n",
       "\n",
       "                     Publisher(s)  \n",
       "0  Sony Interactive Entertainment  \n",
       "1  Sony Interactive Entertainment  \n",
       "2  Sony Interactive Entertainment  "
      ]
     },
     "execution_count": 4,
     "metadata": {},
     "output_type": "execute_result"
    }
   ],
   "source": [
    "ps4_wiki[0].head(3)"
   ]
  },
  {
   "cell_type": "markdown",
   "id": "d7c585c2",
   "metadata": {},
   "source": [
    "I noticed that the \"Copies sold\" column has internal references to the sources used on the Wikipedia page. To make analysis possible, I removed these references and renamed the column accordingly. "
   ]
  },
  {
   "cell_type": "code",
   "execution_count": 5,
   "id": "ef9e80e1",
   "metadata": {},
   "outputs": [],
   "source": [
    "ps4_data = ps4_wiki[0]"
   ]
  },
  {
   "cell_type": "markdown",
   "id": "b3a0cc3d",
   "metadata": {},
   "source": [
    "We check the data types of the \"new\" data frame generated. Note that we picked the first element of ps4_wiki since the read_html function would return each table on the page. "
   ]
  },
  {
   "cell_type": "code",
   "execution_count": 6,
   "id": "752db868",
   "metadata": {},
   "outputs": [
    {
     "data": {
      "text/plain": [
       "Game               object\n",
       "Copies sold        object\n",
       "Release date[a]    object\n",
       "Genre(s)           object\n",
       "Developer(s)       object\n",
       "Publisher(s)       object\n",
       "dtype: object"
      ]
     },
     "execution_count": 6,
     "metadata": {},
     "output_type": "execute_result"
    }
   ],
   "source": [
    "ps4_data.dtypes"
   ]
  },
  {
   "cell_type": "markdown",
   "id": "0ff2541f",
   "metadata": {},
   "source": [
    "We fix the column data by looping through the columns and removing reference numbers, special characters and the word \"million\". "
   ]
  },
  {
   "cell_type": "code",
   "execution_count": 7,
   "id": "65906860",
   "metadata": {},
   "outputs": [],
   "source": [
    "for col in ps4_data.columns: \n",
    "    # remove parentheses and anything in between parentheses\n",
    "    ps4_data[col] = ps4_data[col].str.replace(r\"\\(.*\\)\", \" \", regex = True)\n",
    "    \n",
    "    # remove brackets and anything in between brackets\n",
    "    ps4_data[col] = ps4_data[col].str.replace(r\"\\[.*\\]\", \" \", regex = True)\n",
    "    \n",
    "    # remove the word \"million\" from the columns it shows up \n",
    "    ps4_data[col] = ps4_data[col].str.replace(r\"million\", \" \", regex = True)"
   ]
  },
  {
   "cell_type": "code",
   "execution_count": 8,
   "id": "7f989283",
   "metadata": {},
   "outputs": [
    {
     "data": {
      "text/html": [
       "<div>\n",
       "<style scoped>\n",
       "    .dataframe tbody tr th:only-of-type {\n",
       "        vertical-align: middle;\n",
       "    }\n",
       "\n",
       "    .dataframe tbody tr th {\n",
       "        vertical-align: top;\n",
       "    }\n",
       "\n",
       "    .dataframe thead th {\n",
       "        text-align: right;\n",
       "    }\n",
       "</style>\n",
       "<table border=\"1\" class=\"dataframe\">\n",
       "  <thead>\n",
       "    <tr style=\"text-align: right;\">\n",
       "      <th></th>\n",
       "      <th>Game</th>\n",
       "      <th>Copies sold</th>\n",
       "      <th>Release date[a]</th>\n",
       "      <th>Genre(s)</th>\n",
       "      <th>Developer(s)</th>\n",
       "      <th>Publisher(s)</th>\n",
       "    </tr>\n",
       "  </thead>\n",
       "  <tbody>\n",
       "    <tr>\n",
       "      <th>0</th>\n",
       "      <td>Marvel's Spider-Man</td>\n",
       "      <td>20</td>\n",
       "      <td>September 7, 2018</td>\n",
       "      <td>Action-adventure</td>\n",
       "      <td>Insomniac Games</td>\n",
       "      <td>Sony Interactive Entertainment</td>\n",
       "    </tr>\n",
       "    <tr>\n",
       "      <th>1</th>\n",
       "      <td>God of War</td>\n",
       "      <td>19.5</td>\n",
       "      <td>April 20, 2018</td>\n",
       "      <td>Action-adventurehack and slash</td>\n",
       "      <td>Santa Monica Studio</td>\n",
       "      <td>Sony Interactive Entertainment</td>\n",
       "    </tr>\n",
       "    <tr>\n",
       "      <th>2</th>\n",
       "      <td>Uncharted 4: A Thief's End</td>\n",
       "      <td>16</td>\n",
       "      <td>May 10, 2016</td>\n",
       "      <td>Action-adventure</td>\n",
       "      <td>Naughty Dog</td>\n",
       "      <td>Sony Interactive Entertainment</td>\n",
       "    </tr>\n",
       "  </tbody>\n",
       "</table>\n",
       "</div>"
      ],
      "text/plain": [
       "                         Game Copies sold    Release date[a]  \\\n",
       "0         Marvel's Spider-Man       20     September 7, 2018   \n",
       "1                  God of War     19.5        April 20, 2018   \n",
       "2  Uncharted 4: A Thief's End       16          May 10, 2016   \n",
       "\n",
       "                         Genre(s)         Developer(s)  \\\n",
       "0                Action-adventure      Insomniac Games   \n",
       "1  Action-adventurehack and slash  Santa Monica Studio   \n",
       "2                Action-adventure          Naughty Dog   \n",
       "\n",
       "                     Publisher(s)  \n",
       "0  Sony Interactive Entertainment  \n",
       "1  Sony Interactive Entertainment  \n",
       "2  Sony Interactive Entertainment  "
      ]
     },
     "execution_count": 8,
     "metadata": {},
     "output_type": "execute_result"
    }
   ],
   "source": [
    "ps4_data.head(3)"
   ]
  },
  {
   "cell_type": "markdown",
   "id": "e2a69f80",
   "metadata": {},
   "source": [
    "Now that the column data has been reformatted, we need to rename the data frame columns. "
   ]
  },
  {
   "cell_type": "code",
   "execution_count": 9,
   "id": "3fd2a8b5",
   "metadata": {},
   "outputs": [],
   "source": [
    "ps4_data.rename(columns={\"Copies sold\": \"Millions_copies_sold\"}, inplace = True)\n",
    "ps4_data.rename(columns={\"Release date[a]\": \"Release_date\"}, inplace = True)\n",
    "ps4_data.rename(columns={\"Genre(s)\": \"Genre\"}, inplace = True)\n",
    "ps4_data.rename(columns={\"Developer(s)\": \"Developer\"}, inplace = True)\n",
    "ps4_data.rename(columns={\"Publisher(s)\": \"Publisher\"}, inplace = True)"
   ]
  },
  {
   "cell_type": "code",
   "execution_count": 10,
   "id": "1329f5db",
   "metadata": {},
   "outputs": [
    {
     "data": {
      "text/html": [
       "<div>\n",
       "<style scoped>\n",
       "    .dataframe tbody tr th:only-of-type {\n",
       "        vertical-align: middle;\n",
       "    }\n",
       "\n",
       "    .dataframe tbody tr th {\n",
       "        vertical-align: top;\n",
       "    }\n",
       "\n",
       "    .dataframe thead th {\n",
       "        text-align: right;\n",
       "    }\n",
       "</style>\n",
       "<table border=\"1\" class=\"dataframe\">\n",
       "  <thead>\n",
       "    <tr style=\"text-align: right;\">\n",
       "      <th></th>\n",
       "      <th>Game</th>\n",
       "      <th>Millions_copies_sold</th>\n",
       "      <th>Release_date</th>\n",
       "      <th>Genre</th>\n",
       "      <th>Developer</th>\n",
       "      <th>Publisher</th>\n",
       "    </tr>\n",
       "  </thead>\n",
       "  <tbody>\n",
       "    <tr>\n",
       "      <th>0</th>\n",
       "      <td>Marvel's Spider-Man</td>\n",
       "      <td>20</td>\n",
       "      <td>September 7, 2018</td>\n",
       "      <td>Action-adventure</td>\n",
       "      <td>Insomniac Games</td>\n",
       "      <td>Sony Interactive Entertainment</td>\n",
       "    </tr>\n",
       "    <tr>\n",
       "      <th>1</th>\n",
       "      <td>God of War</td>\n",
       "      <td>19.5</td>\n",
       "      <td>April 20, 2018</td>\n",
       "      <td>Action-adventurehack and slash</td>\n",
       "      <td>Santa Monica Studio</td>\n",
       "      <td>Sony Interactive Entertainment</td>\n",
       "    </tr>\n",
       "    <tr>\n",
       "      <th>2</th>\n",
       "      <td>Uncharted 4: A Thief's End</td>\n",
       "      <td>16</td>\n",
       "      <td>May 10, 2016</td>\n",
       "      <td>Action-adventure</td>\n",
       "      <td>Naughty Dog</td>\n",
       "      <td>Sony Interactive Entertainment</td>\n",
       "    </tr>\n",
       "  </tbody>\n",
       "</table>\n",
       "</div>"
      ],
      "text/plain": [
       "                         Game Millions_copies_sold       Release_date  \\\n",
       "0         Marvel's Spider-Man                20     September 7, 2018   \n",
       "1                  God of War              19.5        April 20, 2018   \n",
       "2  Uncharted 4: A Thief's End                16          May 10, 2016   \n",
       "\n",
       "                            Genre            Developer  \\\n",
       "0                Action-adventure      Insomniac Games   \n",
       "1  Action-adventurehack and slash  Santa Monica Studio   \n",
       "2                Action-adventure          Naughty Dog   \n",
       "\n",
       "                        Publisher  \n",
       "0  Sony Interactive Entertainment  \n",
       "1  Sony Interactive Entertainment  \n",
       "2  Sony Interactive Entertainment  "
      ]
     },
     "execution_count": 10,
     "metadata": {},
     "output_type": "execute_result"
    }
   ],
   "source": [
    "ps4_data.head(3)"
   ]
  },
  {
   "cell_type": "markdown",
   "id": "31d81e9f",
   "metadata": {},
   "source": [
    "We changed the data type of \"Millions_copies_sold\" from \"Object\" to \"Float\" to make quantitative analysis possible. "
   ]
  },
  {
   "cell_type": "code",
   "execution_count": 11,
   "id": "0f89e65d",
   "metadata": {},
   "outputs": [],
   "source": [
    "ps4_data[\"Millions_copies_sold\"] = ps4_data[\"Millions_copies_sold\"].astype(float)"
   ]
  },
  {
   "cell_type": "code",
   "execution_count": 12,
   "id": "091ceb2b",
   "metadata": {},
   "outputs": [
    {
     "data": {
      "text/plain": [
       "Game                     object\n",
       "Millions_copies_sold    float64\n",
       "Release_date             object\n",
       "Genre                    object\n",
       "Developer                object\n",
       "Publisher                object\n",
       "dtype: object"
      ]
     },
     "execution_count": 12,
     "metadata": {},
     "output_type": "execute_result"
    }
   ],
   "source": [
    "ps4_data.dtypes"
   ]
  },
  {
   "cell_type": "markdown",
   "id": "b0d4d9ca",
   "metadata": {},
   "source": [
    "We convert this dataframe to a csv file which we can then connect to SQLite for querying. "
   ]
  },
  {
   "cell_type": "code",
   "execution_count": 13,
   "id": "985d2da3",
   "metadata": {},
   "outputs": [],
   "source": [
    "# setting Index = False so pandas does not add an extra Index column\n",
    "# setting Header = True so first row is set as header row\n",
    "ps4_data.to_csv(\"ps4_game_data.csv\", header = True, index = False)"
   ]
  },
  {
   "cell_type": "code",
   "execution_count": 14,
   "id": "72e899d9",
   "metadata": {},
   "outputs": [],
   "source": [
    "ps4_data_csv = pd.read_csv(\"ps4_game_data.csv\")"
   ]
  },
  {
   "cell_type": "markdown",
   "id": "f9d92ab7",
   "metadata": {},
   "source": [
    "We create a database file named ps4_data at the relative path. We then initialize the SQL connector. "
   ]
  },
  {
   "cell_type": "code",
   "execution_count": 15,
   "id": "83b133b1",
   "metadata": {},
   "outputs": [],
   "source": [
    "# create database on relative path\n",
    "Path(\"ps4_data.db\").touch()\n",
    "\n",
    "# initializing SQL connector\n",
    "ps4_conn = sqlite3.connect(\"ps4_data.db\")\n",
    "ps4_cursor = ps4_conn.cursor()"
   ]
  },
  {
   "cell_type": "markdown",
   "id": "5e2a3cfd",
   "metadata": {},
   "source": [
    "We create a table that we can then merge with the csv. "
   ]
  },
  {
   "cell_type": "code",
   "execution_count": 16,
   "id": "a0689c46",
   "metadata": {},
   "outputs": [
    {
     "data": {
      "text/plain": [
       "<sqlite3.Cursor at 0x7fdce80fb110>"
      ]
     },
     "execution_count": 16,
     "metadata": {},
     "output_type": "execute_result"
    }
   ],
   "source": [
    "ps4_cursor.execute('''\n",
    "DROP TABLE IF EXISTS ps4_data_tab\n",
    "''')\n",
    "\n",
    "ps4_cursor.execute('''\n",
    "CREATE TABLE ps4_data_tab\n",
    "(Game TEXT, Millions_copies_sold REAL, Release_date REAL, Genre TEXT, Developer TEXT, Publisher TEXT)\n",
    "''')\n",
    "\n"
   ]
  },
  {
   "cell_type": "code",
   "execution_count": 17,
   "id": "834bde53",
   "metadata": {},
   "outputs": [
    {
     "data": {
      "text/plain": [
       "33"
      ]
     },
     "execution_count": 17,
     "metadata": {},
     "output_type": "execute_result"
    }
   ],
   "source": [
    "ps4_data_csv.to_sql(\"ps4_data_tab\", ps4_conn, if_exists = \"append\", index = False)"
   ]
  },
  {
   "cell_type": "code",
   "execution_count": 18,
   "id": "dd0ec440",
   "metadata": {},
   "outputs": [
    {
     "data": {
      "text/plain": [
       "Game                     object\n",
       "Millions_copies_sold    float64\n",
       "Release_date             object\n",
       "Genre                    object\n",
       "Developer                object\n",
       "Publisher                object\n",
       "dtype: object"
      ]
     },
     "execution_count": 18,
     "metadata": {},
     "output_type": "execute_result"
    }
   ],
   "source": [
    "ps4_data_csv.dtypes"
   ]
  },
  {
   "cell_type": "markdown",
   "id": "e5b4cfb4",
   "metadata": {},
   "source": [
    "We want to ask the following questions for PS4 games: \n",
    "\n",
    "- 1. What is the highest-selling PS4 game? \n",
    "- 2. What is the highest_selling game series? \n",
    "- 3. In which year did the most PS4 games release? "
   ]
  },
  {
   "cell_type": "code",
   "execution_count": 19,
   "id": "b86fdbb9",
   "metadata": {},
   "outputs": [
    {
     "data": {
      "text/html": [
       "<div>\n",
       "<style scoped>\n",
       "    .dataframe tbody tr th:only-of-type {\n",
       "        vertical-align: middle;\n",
       "    }\n",
       "\n",
       "    .dataframe tbody tr th {\n",
       "        vertical-align: top;\n",
       "    }\n",
       "\n",
       "    .dataframe thead th {\n",
       "        text-align: right;\n",
       "    }\n",
       "</style>\n",
       "<table border=\"1\" class=\"dataframe\">\n",
       "  <thead>\n",
       "    <tr style=\"text-align: right;\">\n",
       "      <th></th>\n",
       "      <th>Game</th>\n",
       "      <th>Millions_copies_sold</th>\n",
       "      <th>Release_date</th>\n",
       "    </tr>\n",
       "  </thead>\n",
       "  <tbody>\n",
       "    <tr>\n",
       "      <th>0</th>\n",
       "      <td>Nioh 2</td>\n",
       "      <td>1.4</td>\n",
       "      <td>March 12, 2020</td>\n",
       "    </tr>\n",
       "    <tr>\n",
       "      <th>1</th>\n",
       "      <td>Nioh</td>\n",
       "      <td>1.0</td>\n",
       "      <td>February 7, 2017</td>\n",
       "    </tr>\n",
       "  </tbody>\n",
       "</table>\n",
       "</div>"
      ],
      "text/plain": [
       "     Game  Millions_copies_sold      Release_date\n",
       "0  Nioh 2                   1.4    March 12, 2020\n",
       "1    Nioh                   1.0  February 7, 2017"
      ]
     },
     "execution_count": 19,
     "metadata": {},
     "output_type": "execute_result"
    }
   ],
   "source": [
    "nioh_query = pd.read_sql('''\n",
    "SELECT Game, Millions_copies_sold, Release_date\n",
    "FROM ps4_data_tab\n",
    "WHERE Game LIKE '%Nioh%' ''', ps4_conn)\n",
    "\n",
    "nioh_query"
   ]
  },
  {
   "cell_type": "markdown",
   "id": "9ff27e80",
   "metadata": {},
   "source": [
    "We graph the distribution of Nioh games and obtain some summary statistics of the series. "
   ]
  },
  {
   "cell_type": "code",
   "execution_count": 20,
   "id": "02d0f2c2",
   "metadata": {},
   "outputs": [
    {
     "name": "stderr",
     "output_type": "stream",
     "text": [
      "/opt/anaconda3/lib/python3.9/site-packages/seaborn/distributions.py:2619: FutureWarning: `distplot` is a deprecated function and will be removed in a future version. Please adapt your code to use either `displot` (a figure-level function with similar flexibility) or `kdeplot` (an axes-level function for kernel density plots).\n",
      "  warnings.warn(msg, FutureWarning)\n"
     ]
    },
    {
     "data": {
      "image/png": "[encoded data removed]",
      "text/plain": [
       "<Figure size 640x480 with 1 Axes>"
      ]
     },
     "metadata": {},
     "output_type": "display_data"
    }
   ],
   "source": [
    "plt.style.use('dark_background')\n",
    "plt.suptitle('Distribution of Nioh Games Sold', weight='bold', color = 'white').set_fontsize(20)\n",
    "plt.title('Data Scraped From Wikipedia').set_fontsize(14)\n",
    "sns.distplot(nioh_query['Millions_copies_sold'], kde=True, hist=False)\n",
    "plt.xlabel('Millions of Copies Sold', weight = 'bold', color = 'white')\n",
    "plt.ylabel('Density', weight = 'bold', color = 'white')\n",
    "plt.xticks(color = 'white')\n",
    "plt.yticks(color = 'white')\n",
    "\n",
    "# hiding the array output by using the show() command\n",
    "plt.show()"
   ]
  }
 ],
 "metadata": {
  "kernelspec": {
   "display_name": "Python 3 (ipykernel)",
   "language": "python",
   "name": "python3"
  },
  "language_info": {
   "codemirror_mode": {
    "name": "ipython",
    "version": 3
   },
   "file_extension": ".py",
   "mimetype": "text/x-python",
   "name": "python",
   "nbconvert_exporter": "python",
   "pygments_lexer": "ipython3",
   "version": "3.9.13"
  }
 },
 "nbformat": 4,
 "nbformat_minor": 5
}
